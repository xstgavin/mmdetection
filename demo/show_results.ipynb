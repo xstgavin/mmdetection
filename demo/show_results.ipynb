{
 "cells": [
  {
   "cell_type": "code",
   "execution_count": 1,
   "metadata": {},
   "outputs": [],
   "source": [
    "import cv2\n",
    "import glob\n",
    "import json\n",
    "from tqdm import tqdm\n",
    "import os\n",
    "\n",
    "#path = '/home/shengtao/Data/censor_dat/test/'\n",
    "\n",
    "#jfile = path + 'fc2_videos/fc2_video_2012.txt_ret.json'\n",
    "\n",
    "#jdat = json.load(open(jfile,'r'))\n",
    "\n"
   ]
  },
  {
   "cell_type": "code",
   "execution_count": 2,
   "metadata": {},
   "outputs": [
    {
     "name": "stderr",
     "output_type": "stream",
     "text": [
      "100%|██████████| 1/1 [05:59<00:00, 359.27s/it]\n"
     ]
    }
   ],
   "source": [
    "def get_new_name(dst,filename, add_name):\n",
    "    newfileName = dst+filename.split('.jpg')[0].split('/')[-1]+add_name+'.jpg'\n",
    "    return newfileName\n",
    "def draw_result(imgfile,ret,thr=0.3):\n",
    "    txtMap = {'naked-body':'nbdy', 'naked-bottom':'nbot','underwear':'udw',\n",
    "              'vagina':'vgna','hand':'hd','penis':'pns','breast':'brst','cum':'cum',\n",
    "             'bra':'bra','dildo':'dld','butt':'bt'}\n",
    "    img = cv2.imread(imgfile)\n",
    "    #print(imgfile)\n",
    "    if img is None:\n",
    "        return img, True,''\n",
    "    img = cv2.cvtColor(img, cv2.COLOR_BGR2RGB)\n",
    "    isPorn=False\n",
    "    add_name=[]\n",
    "    for cls in ret.keys():\n",
    "        for bb in ret[cls]:\n",
    "            if bb[4] > thr:\n",
    "                if not isPorn:\n",
    "                    if cls != 'hand' and cls != 'tongue':\n",
    "                        isPorn = True\n",
    "                if txtMap[cls] not in add_name:\n",
    "                    add_name.append(txtMap[cls])\n",
    "                #add_name = add_name + txtMap[cls]+'_'\n",
    "                pt1= (int(bb[0]),int(bb[1]))\n",
    "                pt2=(int(bb[2]), int(bb[3]))\n",
    "                img=cv2.rectangle(img,pt1,pt2,(255,0,0),3)\n",
    "                if cls in txtMap.keys():\n",
    "                    newName = txtMap[cls]\n",
    "                else:\n",
    "                    newName = cls\n",
    "                img=cv2.putText(img,newName+'|%.2f'%bb[4],(int(bb[0]+10),int(bb[1]+40)), cv2.FONT_HERSHEY_SIMPLEX,1,(255,0,255),1,cv2.LINE_AA)\n",
    "    name_str=''\n",
    "    for elm in add_name:\n",
    "        name_str=name_str +'_'+ elm\n",
    "    #name_str = name_str\n",
    "    return img, isPorn,name_str\n",
    "\n",
    "def visualize_result(jfile,dst='./tmp/',thr=0.3):\n",
    "    if not os.path.exists(dst):\n",
    "        os.mkdir(dst)\n",
    "    jdat = json.load(open(jfile,'r'))\n",
    "    keys = list(jdat.keys())\n",
    "    #count =0 \n",
    "    for key in tqdm(keys):\n",
    "        imgfiles = list(jdat[key])\n",
    "        for imgfile in imgfiles:\n",
    "            try:\n",
    "                img_ret,isPorn,add_name = draw_result(imgfile, jdat[key][imgfile],thr)\n",
    "                if img_ret is not None:\n",
    "                    img_ret = cv2.cvtColor(img_ret, cv2.COLOR_RGB2BGR)\n",
    "                if isPorn:\n",
    "                    ppath = dst+'pred_porn/'\n",
    "                    if not os.path.exists(ppath):\n",
    "                        os.mkdir(ppath)\n",
    "                    newFileName = get_new_name(ppath,imgfile, add_name)\n",
    "                else:\n",
    "                    npath = dst+'pred_norm/'\n",
    "                    if not os.path.exists(npath):\n",
    "                        os.mkdir(npath)\n",
    "                    newFileName = get_new_name(npath,imgfile, add_name)\n",
    "            #print(newFileName)\n",
    "                cv2.imwrite(newFileName,img_ret)\n",
    "            except:\n",
    "                continue\n",
    "            #count  = count +1 \n",
    "        \n",
    "# jfiles = glob.glob(path+'fc2_videos/*_ret.json')  \n",
    "# for jfile in jfiles:\n",
    "#     dst = jfile.replace('_ret.json','_visual/')\n",
    "#     visualize_result(jfile,dst+'/')\n",
    "\n",
    "jfile = './porn_sel.txt_ret.json'\n",
    "#dst = jfile.replace('_ret.json','_visual/')\n",
    "dst = '/home/jovyan/fast-data/porn_sel_ret/'\n",
    "visualize_result(jfile,dst+'/',thr=0.4)"
   ]
  },
  {
   "cell_type": "code",
   "execution_count": 36,
   "metadata": {},
   "outputs": [
    {
     "data": {
      "text/plain": [
       "'/asdfas/bja'"
      ]
     },
     "execution_count": 36,
     "metadata": {},
     "output_type": "execute_result"
    }
   ],
   "source": [
    "a= '/asdfas/bja/j'\n",
    "os.path.dirname(a)"
   ]
  },
  {
   "cell_type": "code",
   "execution_count": null,
   "metadata": {},
   "outputs": [],
   "source": []
  }
 ],
 "metadata": {
  "kernelspec": {
   "display_name": "open-mmlab",
   "language": "python",
   "name": "open-mmlab"
  },
  "language_info": {
   "codemirror_mode": {
    "name": "ipython",
    "version": 3
   },
   "file_extension": ".py",
   "mimetype": "text/x-python",
   "name": "python",
   "nbconvert_exporter": "python",
   "pygments_lexer": "ipython3",
   "version": "3.7.9"
  }
 },
 "nbformat": 4,
 "nbformat_minor": 4
}
