{
 "cells": [
  {
   "cell_type": "code",
   "execution_count": 1,
   "metadata": {},
   "outputs": [],
   "source": [
    "from mmdet.apis import init_detector, inference_detector, show_result_pyplot\n",
    "import mmcv\n",
    "classes=('penis','vagina','breast','butt','naked-body','naked-bottom','underwear')"
   ]
  },
  {
   "cell_type": "code",
   "execution_count": 14,
   "metadata": {},
   "outputs": [
    {
     "name": "stdout",
     "output_type": "stream",
     "text": [
      "two_stage.py: pretrained=  None\n"
     ]
    }
   ],
   "source": [
    "\n",
    "## config_file = '../configs/faster_rcnn/faster_rcnn_r50_fpn_1x_coco.py'\n",
    "config_file = '../configs/censor/faster_rcnn_x101_32x4d_fpn_1x_censor.py'\n",
    "config_file = '../configs/censor/faster_rcnn_x101_32x4d_fpn_1x_censor-freeze-s1-coloraug.py'\n",
    "config_file = '../configs/censor/faster_rcnn_x101_32x4d_fpn_1x_censor-freeze-s4.py'\n",
    "# download the checkpoint from model zoo and put it in `checkpoints/`\n",
    "#checkpoint_file = '../checkpoints/faster_rcnn_r50_fpn_1x_20181010-3d1b3351.pth'\n",
    "checkpoint_file = '../work_dirs/faster_rcnn_x101_32x4d_fpn_1x_censor/epoch_17.pth'\n",
    "checkpoint_file = '../work_dirs/faster_rcnn_x101_32x4d_fpn_1x_censor-rot/epoch_29.pth'\n",
    "checkpoint_file = '../work_dirs/faster_rcnn_x101_32x4d_fpn_1x_censor-freeze-s1-coloraug/epoch_25.pth'\n",
    "checkpoint_file = '../work_dirs/faster_rcnn_x101_32x4d_fpn_1x_censor-freeze-s1/epoch_20.pth'\n",
    "#checkpoint_file = '../work_dirs/faster_rcnn_x101_32x4d_fpn_1x_censor-freeze-s4/epoch_48.pth'\n",
    "#checkpoint_file = '../work_dirs/faster_rcnn_x101_32x4d_fpn_1x_censor/epoch_20.pth'\n",
    "model = init_detector(config_file, checkpoint_file, device='cuda:0')"
   ]
  },
  {
   "cell_type": "code",
   "execution_count": 4,
   "metadata": {},
   "outputs": [
    {
     "name": "stdout",
     "output_type": "stream",
     "text": [
      "11556\n"
     ]
    }
   ],
   "source": [
    "# build the model from a config file and a checkpoint file\n",
    "\n",
    "lines = open('/home/jovyan/fast-data/tusou_test/script/valid.lst','r').readlines()\n",
    "PORN6=['hentai','anime','norm','porn','sexy','very_sexy']\n",
    "dat={}\n",
    "print(len(lines))\n",
    "for line in lines:\n",
    "    a = line.rstrip().split(' ')\n",
    "    file = a[0]\n",
    "    annt = PORN6[int(a[1])]\n",
    "    if annt not in dat.keys():\n",
    "        dat[annt]=[]\n",
    "        dat[annt].append(file)\n",
    "    else:\n",
    "        dat[annt].append(file)\n",
    "#print(dat)"
   ]
  },
  {
   "cell_type": "code",
   "execution_count": 1,
   "metadata": {},
   "outputs": [
    {
     "ename": "NameError",
     "evalue": "name 'dat' is not defined",
     "output_type": "error",
     "traceback": [
      "\u001b[0;31m---------------------------------------------------------------------------\u001b[0m",
      "\u001b[0;31mNameError\u001b[0m                                 Traceback (most recent call last)",
      "\u001b[0;32m<ipython-input-1-448903d223cb>\u001b[0m in \u001b[0;36m<module>\u001b[0;34m\u001b[0m\n\u001b[1;32m      3\u001b[0m \u001b[0mimg\u001b[0m \u001b[0;34m=\u001b[0m \u001b[0;34m'demo.jpg'\u001b[0m\u001b[0;34m\u001b[0m\u001b[0;34m\u001b[0m\u001b[0m\n\u001b[1;32m      4\u001b[0m \u001b[0mimg\u001b[0m \u001b[0;34m=\u001b[0m \u001b[0;34m'/home/jovyan/fast-data/tusou_test/porn/(m=bJ4hdaaecaa)(mh=-EDlnUGRnKxMCZ-J)original_208989461.jpg'\u001b[0m\u001b[0;34m\u001b[0m\u001b[0;34m\u001b[0m\u001b[0m\n\u001b[0;32m----> 5\u001b[0;31m \u001b[0;32mfor\u001b[0m \u001b[0mimgfil\u001b[0m \u001b[0;32min\u001b[0m \u001b[0mdat\u001b[0m\u001b[0;34m[\u001b[0m\u001b[0;34m'porn'\u001b[0m\u001b[0;34m]\u001b[0m\u001b[0;34m[\u001b[0m\u001b[0;34m:\u001b[0m\u001b[0;36m40\u001b[0m\u001b[0;34m]\u001b[0m\u001b[0;34m:\u001b[0m\u001b[0;34m\u001b[0m\u001b[0;34m\u001b[0m\u001b[0m\n\u001b[0m\u001b[1;32m      6\u001b[0m     \u001b[0mimg_bgr\u001b[0m \u001b[0;34m=\u001b[0m \u001b[0mcv2\u001b[0m\u001b[0;34m.\u001b[0m\u001b[0mimread\u001b[0m\u001b[0;34m(\u001b[0m\u001b[0mimgfil\u001b[0m\u001b[0;34m)\u001b[0m\u001b[0;34m\u001b[0m\u001b[0;34m\u001b[0m\u001b[0m\n\u001b[1;32m      7\u001b[0m     \u001b[0;31m#print(imgfil)\u001b[0m\u001b[0;34m\u001b[0m\u001b[0;34m\u001b[0m\u001b[0;34m\u001b[0m\u001b[0m\n",
      "\u001b[0;31mNameError\u001b[0m: name 'dat' is not defined"
     ]
    }
   ],
   "source": [
    "# test a single image\n",
    "import cv2\n",
    "img = 'demo.jpg'\n",
    "img = '/home/jovyan/fast-data/tusou_test/porn/(m=bJ4hdaaecaa)(mh=-EDlnUGRnKxMCZ-J)original_208989461.jpg'\n",
    "for imgfil in dat['porn'][:40]:\n",
    "    img_bgr = cv2.imread(imgfil)\n",
    "    #print(imgfil)\n",
    "    img_rgb=cv2.cvtColor(img_bgr, cv2.COLOR_BGR2RGB)\n",
    "    #result = inference_detector(model, img_bgr)\n",
    "    result = inference_detector(model, imgfil)\n",
    "    #print(result)\n",
    "    show_result_pyplot(model, imgfil, result,score_thr=0.3)"
   ]
  },
  {
   "cell_type": "code",
   "execution_count": 44,
   "metadata": {},
   "outputs": [
    {
     "name": "stdout",
     "output_type": "stream",
     "text": [
      "0\n"
     ]
    }
   ],
   "source": [
    "print(result[6].shape[0])"
   ]
  },
  {
   "cell_type": "code",
   "execution_count": null,
   "metadata": {},
   "outputs": [],
   "source": []
  }
 ],
 "metadata": {
  "kernelspec": {
   "display_name": "open-mmlab",
   "language": "python",
   "name": "open-mmlab"
  },
  "language_info": {
   "codemirror_mode": {
    "name": "ipython",
    "version": 3
   },
   "file_extension": ".py",
   "mimetype": "text/x-python",
   "name": "python",
   "nbconvert_exporter": "python",
   "pygments_lexer": "ipython3",
   "version": "3.7.9"
  },
  "pycharm": {
   "stem_cell": {
    "cell_type": "raw",
    "metadata": {
     "collapsed": false
    },
    "source": []
   }
  }
 },
 "nbformat": 4,
 "nbformat_minor": 4
}
